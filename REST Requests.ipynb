{
 "cells": [
  {
   "cell_type": "code",
   "execution_count": null,
   "id": "d52b7546",
   "metadata": {},
   "outputs": [],
   "source": [
    "# These are the requests made in order as done in the video."
   ]
  },
  {
   "cell_type": "code",
   "execution_count": 4,
   "id": "aefdc6bb",
   "metadata": {},
   "outputs": [
    {
     "name": "stdout",
     "output_type": "stream",
     "text": [
      "{\"count\":12,\"next\":\"http://127.0.0.1:8000/request?page=2&per_page=3\",\"previous\":null,\"results\":[{\"RequestID\":1,\"RequesterID\":123,\"FromAddress\":\"8/217 Housing Board\",\"ToAddress\":\"Housing no. 257, Crown City\",\"DateTime\":\"2023-01-12\",\"NumberOfAssets\":5,\"AssetType\":\"P\",\"Senstivity\":\"N\",\"Status\":\"-\",\"RideID\":null},{\"RequestID\":2,\"RequesterID\":123,\"FromAddress\":\"12 sector\",\"ToAddress\":\"New Housing Board\",\"DateTime\":\"2023-01-10\",\"NumberOfAssets\":3,\"AssetType\":\"L\",\"Senstivity\":\"N\",\"Status\":\"O\",\"RideID\":5},{\"RequestID\":3,\"RequesterID\":456,\"FromAddress\":\"ShivMandir\",\"ToAddress\":\"Lal Chowk\",\"DateTime\":\"2023-02-10\",\"NumberOfAssets\":1,\"AssetType\":\"P\",\"Senstivity\":\"N\",\"Status\":\"O\",\"RideID\":1}]}\n"
     ]
    }
   ],
   "source": [
    "# To get list of all the requests, using pagination\n",
    "\n",
    "import requests\n",
    "url = \"http://127.0.0.1:8000/request?page=1&per_page=3\"\n",
    "payload={}\n",
    "headers = {}\n",
    "response = requests.request(\"GET\", url, headers=headers, data=payload)\n",
    "print(response.text)\n",
    "\n",
    "# sample response:\n",
    "'''\n",
    "{\n",
    "   \"count\":12,\n",
    "   \"next\":\"http://127.0.0.1:8000/request?page=2&per_page=3\",\n",
    "   \"previous\":null,\n",
    "   \"results\":[\n",
    "      {\n",
    "         \"RequestID\":1,\n",
    "         \"RequesterID\":123,\n",
    "         \"FromAddress\":\"8/217 Housing Board\",\n",
    "         \"ToAddress\":\"Housing no. 257, Crown City\",\n",
    "         \"DateTime\":\"2023-01-12\",\n",
    "         \"NumberOfAssets\":5,\n",
    "         \"AssetType\":\"P\",\n",
    "         \"Senstivity\":\"N\",\n",
    "         \"Status\":\"-\",\n",
    "         \"RideID\":null\n",
    "      },\n",
    "      {\n",
    "         \"RequestID\":2,\n",
    "         \"RequesterID\":123,\n",
    "         \"FromAddress\":\"12 sector\",\n",
    "         \"ToAddress\":\"New Housing Board\",\n",
    "         \"DateTime\":\"2023-01-10\",\n",
    "         \"NumberOfAssets\":3,\n",
    "         \"AssetType\":\"L\",\n",
    "         \"Senstivity\":\"N\",\n",
    "         \"Status\":\"O\",\n",
    "         \"RideID\":5\n",
    "      },\n",
    "      {\n",
    "         \"RequestID\":3,\n",
    "         \"RequesterID\":456,\n",
    "         \"FromAddress\":\"ShivMandir\",\n",
    "         \"ToAddress\":\"Lal Chowk\",\n",
    "         \"DateTime\":\"2023-02-10\",\n",
    "         \"NumberOfAssets\":1,\n",
    "         \"AssetType\":\"P\",\n",
    "         \"Senstivity\":\"N\",\n",
    "         \"Status\":\"O\",\n",
    "         \"RideID\":1\n",
    "      }\n",
    "   ]\n",
    "}\n",
    "'''"
   ]
  },
  {
   "cell_type": "code",
   "execution_count": 7,
   "id": "2d95a148",
   "metadata": {},
   "outputs": [
    {
     "name": "stdout",
     "output_type": "stream",
     "text": [
      "{\"data\":[{\"RequestID\":4,\"RequesterID\":789,\"FromAddress\":\"abc\",\"ToAddress\":\"def\",\"DateTime\":\"2022-01-29\",\"NumberOfAssets\":3,\"AssetType\":\"P\",\"Senstivity\":\"N\",\"Status\":\"-\",\"RideID\":null}],\"message\":\"GET call successfull\"}\n"
     ]
    }
   ],
   "source": [
    "# To get one request detail using the request id\n",
    "\n",
    "import requests\n",
    "url = \"http://127.0.0.1:8000/request/4\"\n",
    "payload={}\n",
    "headers = {}\n",
    "response = requests.request(\"GET\", url, headers=headers, data=payload)\n",
    "print(response.text)\n",
    "\n",
    "# Sample response:\n",
    "'''\n",
    "{\n",
    "   \"data\":[\n",
    "      {\n",
    "         \"RequestID\":4,\n",
    "         \"RequesterID\":789,\n",
    "         \"FromAddress\":\"abc\",\n",
    "         \"ToAddress\":\"def\",\n",
    "         \"DateTime\":\"2022-01-29\",\n",
    "         \"NumberOfAssets\":3,\n",
    "         \"AssetType\":\"P\",\n",
    "         \"Senstivity\":\"N\",\n",
    "         \"Status\":\"-\",\n",
    "         \"RideID\":null\n",
    "      }\n",
    "   ],\n",
    "   \"message\":\"GET call successfull\"\n",
    "}\n",
    "'''"
   ]
  },
  {
   "cell_type": "code",
   "execution_count": 8,
   "id": "f524276f",
   "metadata": {},
   "outputs": [
    {
     "name": "stdout",
     "output_type": "stream",
     "text": [
      "{\"data\":{\"RequestID\":13,\"RequesterID\":890,\"FromAddress\":\"sector 17\",\"ToAddress\":\"sector 34\",\"DateTime\":\"2023-01-15\",\"NumberOfAssets\":3,\"AssetType\":\"L\",\"Senstivity\":\"N\",\"Status\":\"-\",\"RideID\":null},\"message\":\"Added Successfully\"}\n"
     ]
    }
   ],
   "source": [
    "# To create a request, by a requester, using POST method\n",
    "\n",
    "import requests\n",
    "import json\n",
    "url = \"http://127.0.0.1:8000/request\"\n",
    "payload = json.dumps({\n",
    "  \"RequesterID\": 890,\n",
    "  \"FromAddress\": \"sector 17\",\n",
    "  \"ToAddress\": \"sector 34\",\n",
    "  \"DateTime\": \"2023-01-15\",\n",
    "  \"NumberOfAssets\": 3,\n",
    "  \"AssetType\": \"L\"\n",
    "})\n",
    "headers = {\n",
    "  'Content-Type': 'application/json'\n",
    "}\n",
    "response = requests.request(\"POST\", url, headers=headers, data=payload)\n",
    "print(response.text)\n",
    "\n",
    "# Sample response:\n",
    "'''\n",
    "{\n",
    "   \"data\":{\n",
    "      \"RequestID\":13,\n",
    "      \"RequesterID\":890,\n",
    "      \"FromAddress\":\"sector 17\",\n",
    "      \"ToAddress\":\"sector 34\",\n",
    "      \"DateTime\":\"2023-01-15\",\n",
    "      \"NumberOfAssets\":3,\n",
    "      \"AssetType\":\"L\",\n",
    "      \"Senstivity\":\"N\",\n",
    "      \"Status\":\"-\",\n",
    "      \"RideID\":null\n",
    "   },\n",
    "   \"message\":\"Added Successfully\"\n",
    "}\n",
    "'''"
   ]
  },
  {
   "cell_type": "code",
   "execution_count": 9,
   "id": "8185b2c1",
   "metadata": {},
   "outputs": [
    {
     "name": "stdout",
     "output_type": "stream",
     "text": [
      "{\"count\":10,\"next\":\"http://127.0.0.1:8000/ride?page=2&per_page=5\",\"previous\":null,\"results\":[{\"RideID\":1,\"RiderID\":103,\"FromAddress\":\"ShivMandir\",\"ToAddress\":\"Lal Chowk\",\"DateTime\":\"2023-02-10\",\"AvailableAssets\":1,\"TravelMedium\":\"C\"},{\"RideID\":2,\"RiderID\":103,\"FromAddress\":\"8/217 Housing Board\",\"ToAddress\":\"Housing no. 257, Crown City\",\"DateTime\":\"2023-01-12\",\"AvailableAssets\":6,\"TravelMedium\":\"C\"},{\"RideID\":4,\"RiderID\":101,\"FromAddress\":\"8/217 Housing Board\",\"ToAddress\":\"Housing no. 257, Crown City\",\"DateTime\":\"2023-01-12\",\"AvailableAssets\":5,\"TravelMedium\":\"T\"},{\"RideID\":5,\"RiderID\":101,\"FromAddress\":\"12 sector\",\"ToAddress\":\"New Housing Board\",\"DateTime\":\"2023-01-10\",\"AvailableAssets\":6,\"TravelMedium\":\"B\"},{\"RideID\":6,\"RiderID\":102,\"FromAddress\":\"12 sector\",\"ToAddress\":\"New Housing Board\",\"DateTime\":\"2023-01-10\",\"AvailableAssets\":8,\"TravelMedium\":\"C\"}]}\n"
     ]
    }
   ],
   "source": [
    "# To get all the rides, using pagination\n",
    "\n",
    "import requests\n",
    "url = \"http://127.0.0.1:8000/ride?page=1&per_page=5\"\n",
    "payload = {}\n",
    "headers = {}\n",
    "response = requests.request(\"GET\", url, headers=headers, data=payload)\n",
    "print(response.text)\n",
    "\n",
    "# Sample response:\n",
    "'''\n",
    "{\n",
    "   \"count\":10,\n",
    "   \"next\":\"http://127.0.0.1:8000/ride?page=2&per_page=5\",\n",
    "   \"previous\":null,\n",
    "   \"results\":[\n",
    "      {\n",
    "         \"RideID\":1,\n",
    "         \"RiderID\":103,\n",
    "         \"FromAddress\":\"ShivMandir\",\n",
    "         \"ToAddress\":\"Lal Chowk\",\n",
    "         \"DateTime\":\"2023-02-10\",\n",
    "         \"AvailableAssets\":1,\n",
    "         \"TravelMedium\":\"C\"\n",
    "      },\n",
    "      {\n",
    "         \"RideID\":2,\n",
    "         \"RiderID\":103,\n",
    "         \"FromAddress\":\"8/217 Housing Board\",\n",
    "         \"ToAddress\":\"Housing no. 257, Crown City\",\n",
    "         \"DateTime\":\"2023-01-12\",\n",
    "         \"AvailableAssets\":6,\n",
    "         \"TravelMedium\":\"C\"\n",
    "      },\n",
    "      {\n",
    "         \"RideID\":4,\n",
    "         \"RiderID\":101,\n",
    "         \"FromAddress\":\"8/217 Housing Board\",\n",
    "         \"ToAddress\":\"Housing no. 257, Crown City\",\n",
    "         \"DateTime\":\"2023-01-12\",\n",
    "         \"AvailableAssets\":5,\n",
    "         \"TravelMedium\":\"T\"\n",
    "      },\n",
    "      {\n",
    "         \"RideID\":5,\n",
    "         \"RiderID\":101,\n",
    "         \"FromAddress\":\"12 sector\",\n",
    "         \"ToAddress\":\"New Housing Board\",\n",
    "         \"DateTime\":\"2023-01-10\",\n",
    "         \"AvailableAssets\":6,\n",
    "         \"TravelMedium\":\"B\"\n",
    "      },\n",
    "      {\n",
    "         \"RideID\":6,\n",
    "         \"RiderID\":102,\n",
    "         \"FromAddress\":\"12 sector\",\n",
    "         \"ToAddress\":\"New Housing Board\",\n",
    "         \"DateTime\":\"2023-01-10\",\n",
    "         \"AvailableAssets\":8,\n",
    "         \"TravelMedium\":\"C\"\n",
    "      }\n",
    "   ]\n",
    "}\n",
    "'''"
   ]
  },
  {
   "cell_type": "code",
   "execution_count": 10,
   "id": "12fda901",
   "metadata": {},
   "outputs": [
    {
     "name": "stdout",
     "output_type": "stream",
     "text": [
      "{\"data\":[{\"RideID\":4,\"RiderID\":101,\"FromAddress\":\"8/217 Housing Board\",\"ToAddress\":\"Housing no. 257, Crown City\",\"DateTime\":\"2023-01-12\",\"AvailableAssets\":5,\"TravelMedium\":\"T\"}],\"message\":\"GET call successfull\"}\n"
     ]
    }
   ],
   "source": [
    "# To get details of one ride, using ride id\n",
    "\n",
    "import requests\n",
    "url = \"http://127.0.0.1:8000/ride/4\"\n",
    "payload={}\n",
    "headers = {}\n",
    "response = requests.request(\"GET\", url, headers=headers, data=payload)\n",
    "print(response.text)\n",
    "\n",
    "# Sample response:\n",
    "'''\n",
    "{\n",
    "   \"data\":[\n",
    "      {\n",
    "         \"RideID\":4,\n",
    "         \"RiderID\":101,\n",
    "         \"FromAddress\":\"8/217 Housing Board\",\n",
    "         \"ToAddress\":\"Housing no. 257, Crown City\",\n",
    "         \"DateTime\":\"2023-01-12\",\n",
    "         \"AvailableAssets\":5,\n",
    "         \"TravelMedium\":\"T\"\n",
    "      }\n",
    "   ],\n",
    "   \"message\":\"GET call successfull\"\n",
    "}\n",
    "'''"
   ]
  },
  {
   "cell_type": "code",
   "execution_count": 11,
   "id": "103296fc",
   "metadata": {},
   "outputs": [
    {
     "name": "stdout",
     "output_type": "stream",
     "text": [
      "{\"data\":{\"RideID\":12,\"RiderID\":112,\"FromAddress\":\"sector 17\",\"ToAddress\":\"sector 34\",\"DateTime\":\"2023-01-15\",\"AvailableAssets\":15,\"TravelMedium\":\"C\"},\"message\":\"Added Successfully\"}\n"
     ]
    }
   ],
   "source": [
    "# To create a ride, by a rider, using POST method\n",
    "\n",
    "\n",
    "import requests\n",
    "import json\n",
    "url = \"http://127.0.0.1:8000/ride\"\n",
    "payload = json.dumps({\n",
    "  \"RiderID\": 112,\n",
    "  \"FromAddress\": \"sector 17\",\n",
    "  \"ToAddress\": \"sector 34\",\n",
    "  \"DateTime\": \"2023-01-15\",\n",
    "  \"AvailableAssets\": 15,\n",
    "  \"TravelMedium\": \"C\"\n",
    "})\n",
    "headers = {\n",
    "  'Content-Type': 'application/json'\n",
    "}\n",
    "response = requests.request(\"POST\", url, headers=headers, data=payload)\n",
    "print(response.text)\n",
    "\n",
    "# Sample response:\n",
    "'''\n",
    "{\n",
    "   \"data\":{\n",
    "      \"RideID\":12,\n",
    "      \"RiderID\":112,\n",
    "      \"FromAddress\":\"sector 17\",\n",
    "      \"ToAddress\":\"sector 34\",\n",
    "      \"DateTime\":\"2023-01-15\",\n",
    "      \"AvailableAssets\":15,\n",
    "      \"TravelMedium\":\"C\"\n",
    "   },\n",
    "   \"message\":\"Added Successfully\"\n",
    "}\n",
    "'''"
   ]
  },
  {
   "cell_type": "code",
   "execution_count": 15,
   "id": "acfbd971",
   "metadata": {},
   "outputs": [
    {
     "name": "stdout",
     "output_type": "stream",
     "text": [
      "{\"count\":1,\"next\":null,\"previous\":null,\"results\":[{\"RequestID\":13,\"RequesterID\":890,\"FromAddress\":\"sector 17\",\"ToAddress\":\"sector 34\",\"DateTime\":\"2023-01-15\",\"NumberOfAssets\":3,\"AssetType\":\"L\",\"Senstivity\":\"N\",\"Status\":\"-\",\"RideID\":null}]}\n"
     ]
    },
    {
     "data": {
      "text/plain": [
       "'\\n{\\n   \"count\":1,\\n   \"next\":null,\\n   \"previous\":null,\\n   \"results\":[\\n      {\\n         \"RequestID\":13,\\n         \"RequesterID\":890,\\n         \"FromAddress\":\"sector 17\",\\n         \"ToAddress\":\"sector 34\",\\n         \"DateTime\":\"2023-01-15\",\\n         \"NumberOfAssets\":3,\\n         \"AssetType\":\"L\",\\n         \"Senstivity\":\"N\",\\n         \"Status\":\"-\",\\n         \"RideID\":null\\n      }\\n   ]\\n}\\n'"
      ]
     },
     "execution_count": 15,
     "metadata": {},
     "output_type": "execute_result"
    }
   ],
   "source": [
    "# To get list of all the requests posted by a requester, supporting pagination\n",
    "\n",
    "import requests\n",
    "url = \"http://127.0.0.1:8000/requester?requester_id=890&ordering=true&asset_type=L&page=1&per_page=1\"\n",
    "payload={}\n",
    "headers = {}\n",
    "response = requests.request(\"GET\", url, headers=headers, data=payload)\n",
    "print(response.text)\n",
    "\n",
    "# Sample response:\n",
    "'''\n",
    "{\n",
    "   \"count\":1,\n",
    "   \"next\":null,\n",
    "   \"previous\":null,\n",
    "   \"results\":[\n",
    "      {\n",
    "         \"RequestID\":13,\n",
    "         \"RequesterID\":890,\n",
    "         \"FromAddress\":\"sector 17\",\n",
    "         \"ToAddress\":\"sector 34\",\n",
    "         \"DateTime\":\"2023-01-15\",\n",
    "         \"NumberOfAssets\":3,\n",
    "         \"AssetType\":\"L\",\n",
    "         \"Senstivity\":\"N\",\n",
    "         \"Status\":\"-\",\n",
    "         \"RideID\":null\n",
    "      }\n",
    "   ]\n",
    "}\n",
    "'''"
   ]
  },
  {
   "cell_type": "code",
   "execution_count": 16,
   "id": "773c2d2c",
   "metadata": {},
   "outputs": [
    {
     "name": "stdout",
     "output_type": "stream",
     "text": [
      "{\"count\":1,\"next\":null,\"previous\":null,\"results\":[{\"RideID\":12,\"RiderID\":112,\"FromAddress\":\"sector 17\",\"ToAddress\":\"sector 34\",\"DateTime\":\"2023-01-15\",\"AvailableAssets\":15,\"TravelMedium\":\"C\"}]}\n"
     ]
    }
   ],
   "source": [
    "# To get matching rides to a request, supporting pagination\n",
    "\n",
    "import requests\n",
    "url = \"http://127.0.0.1:8000/request/match/13?page=1&per_page=2\"\n",
    "payload = \"\"\n",
    "headers = {}\n",
    "response = requests.request(\"GET\", url, headers=headers, data=payload)\n",
    "print(response.text)\n",
    "\n",
    "# Sample response:\n",
    "'''\n",
    "{\n",
    "   \"count\":1,\n",
    "   \"next\":null,\n",
    "   \"previous\":null,\n",
    "   \"results\":[\n",
    "      {\n",
    "         \"RideID\":12,\n",
    "         \"RiderID\":112,\n",
    "         \"FromAddress\":\"sector 17\",\n",
    "         \"ToAddress\":\"sector 34\",\n",
    "         \"DateTime\":\"2023-01-15\",\n",
    "         \"AvailableAssets\":15,\n",
    "         \"TravelMedium\":\"C\"\n",
    "      }\n",
    "   ]\n",
    "}\n",
    "'''"
   ]
  },
  {
   "cell_type": "code",
   "execution_count": 17,
   "id": "c0ab5ad0",
   "metadata": {},
   "outputs": [
    {
     "name": "stdout",
     "output_type": "stream",
     "text": [
      "{\"data\":[{\"RequestID\":13,\"RequesterID\":890,\"FromAddress\":\"sector 17\",\"ToAddress\":\"sector 34\",\"DateTime\":\"2023-01-15\",\"NumberOfAssets\":3,\"AssetType\":\"L\",\"Senstivity\":\"N\",\"Status\":\"O\",\"RideID\":12}],\"message\":\"Matched Successfully\"}\n"
     ]
    }
   ],
   "source": [
    "# To apply for a ride by requester for a request\n",
    "\n",
    "import requests\n",
    "import json\n",
    "url = \"http://127.0.0.1:8000/request/apply\"\n",
    "payload = json.dumps({\n",
    "  \"request_id\": 13,\n",
    "  \"ride_id\": 12\n",
    "})\n",
    "headers = {\n",
    "  'Content-Type': 'application/json'\n",
    "}\n",
    "response = requests.request(\"POST\", url, headers=headers, data=payload)\n",
    "print(response.text)\n",
    "\n",
    "# Sample response:\n",
    "'''\n",
    "{\n",
    "   \"data\":[\n",
    "      {\n",
    "         \"RequestID\":13,\n",
    "         \"RequesterID\":890,\n",
    "         \"FromAddress\":\"sector 17\",\n",
    "         \"ToAddress\":\"sector 34\",\n",
    "         \"DateTime\":\"2023-01-15\",\n",
    "         \"NumberOfAssets\":3,\n",
    "         \"AssetType\":\"L\",\n",
    "         \"Senstivity\":\"N\",\n",
    "         \"Status\":\"O\",\n",
    "         \"RideID\":12\n",
    "      }\n",
    "   ],\n",
    "   \"message\":\"Matched Successfully\"\n",
    "}\n",
    "'''"
   ]
  },
  {
   "cell_type": "code",
   "execution_count": 19,
   "id": "88c79373",
   "metadata": {},
   "outputs": [
    {
     "name": "stdout",
     "output_type": "stream",
     "text": [
      "{\"count\":3,\"next\":\"http://127.0.0.1:8000/rider/101/?page=2&per_page=2\",\"previous\":null,\"results\":[{\"RideID\":4,\"RiderID\":101,\"FromAddress\":\"8/217 Housing Board\",\"ToAddress\":\"Housing no. 257, Crown City\",\"DateTime\":\"2023-01-12\",\"AvailableAssets\":5,\"TravelMedium\":\"T\"},{\"RideID\":5,\"RiderID\":101,\"FromAddress\":\"12 sector\",\"ToAddress\":\"New Housing Board\",\"DateTime\":\"2023-01-10\",\"AvailableAssets\":6,\"TravelMedium\":\"B\"}]}\n"
     ]
    },
    {
     "data": {
      "text/plain": [
       "'\\n{\\n   \"count\":3,\\n   \"next\":\"http://127.0.0.1:8000/rider/101/?page=2&per_page=2\",\\n   \"previous\":null,\\n   \"results\":[\\n      {\\n         \"RideID\":4,\\n         \"RiderID\":101,\\n         \"FromAddress\":\"8/217 Housing Board\",\\n         \"ToAddress\":\"Housing no. 257, Crown City\",\\n         \"DateTime\":\"2023-01-12\",\\n         \"AvailableAssets\":5,\\n         \"TravelMedium\":\"T\"\\n      },\\n      {\\n         \"RideID\":5,\\n         \"RiderID\":101,\\n         \"FromAddress\":\"12 sector\",\\n         \"ToAddress\":\"New Housing Board\",\\n         \"DateTime\":\"2023-01-10\",\\n         \"AvailableAssets\":6,\\n         \"TravelMedium\":\"B\"\\n      }\\n   ]\\n}\\n'"
      ]
     },
     "execution_count": 19,
     "metadata": {},
     "output_type": "execute_result"
    }
   ],
   "source": [
    "# To get all the rides posted by a rider, supporting pagination\n",
    "\n",
    "import requests\n",
    "url = \"http://127.0.0.1:8000/rider/101?page=1&per_page=2\"\n",
    "payload = \"\"\n",
    "headers = {}\n",
    "response = requests.request(\"GET\", url, headers=headers, data=payload)\n",
    "print(response.text)\n",
    "\n",
    "# Sample response:\n",
    "'''\n",
    "{\n",
    "   \"count\":3,\n",
    "   \"next\":\"http://127.0.0.1:8000/rider/101/?page=2&per_page=2\",\n",
    "   \"previous\":null,\n",
    "   \"results\":[\n",
    "      {\n",
    "         \"RideID\":4,\n",
    "         \"RiderID\":101,\n",
    "         \"FromAddress\":\"8/217 Housing Board\",\n",
    "         \"ToAddress\":\"Housing no. 257, Crown City\",\n",
    "         \"DateTime\":\"2023-01-12\",\n",
    "         \"AvailableAssets\":5,\n",
    "         \"TravelMedium\":\"T\"\n",
    "      },\n",
    "      {\n",
    "         \"RideID\":5,\n",
    "         \"RiderID\":101,\n",
    "         \"FromAddress\":\"12 sector\",\n",
    "         \"ToAddress\":\"New Housing Board\",\n",
    "         \"DateTime\":\"2023-01-10\",\n",
    "         \"AvailableAssets\":6,\n",
    "         \"TravelMedium\":\"B\"\n",
    "      }\n",
    "   ]\n",
    "}\n",
    "'''"
   ]
  }
 ],
 "metadata": {
  "kernelspec": {
   "display_name": "Python 3 (ipykernel)",
   "language": "python",
   "name": "python3"
  },
  "language_info": {
   "codemirror_mode": {
    "name": "ipython",
    "version": 3
   },
   "file_extension": ".py",
   "mimetype": "text/x-python",
   "name": "python",
   "nbconvert_exporter": "python",
   "pygments_lexer": "ipython3",
   "version": "3.8.15"
  }
 },
 "nbformat": 4,
 "nbformat_minor": 5
}
